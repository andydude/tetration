{
 "cells": [
  {
   "cell_type": "code",
   "execution_count": 1,
   "metadata": {
    "collapsed": true
   },
   "outputs": [],
   "source": [
    "# Dependencies \n",
    "tetration_dl = os.environ.get('TETRATION_DL', os.getcwd())\n",
    "sys.path.append(tetration_dl)\n",
    "from sage_tetration import *\n",
    "\n",
    "# Base of the super-logarithm (hyper-4-logarithm)\n",
    "# Natural logarithm (hyper-3-logarithm) of the base\n",
    "b = var('b')\n",
    "lnb = log(b)\n",
    "\n",
    "# number of terms in the power series\n",
    "order = 10\n",
    "\n",
    "# Number of bits in floating-point numbers \n",
    "prec = 53\n",
    "\n",
    "# default coefficient ring\n",
    "ring = SR\n",
    "\n",
    "# Power series ring over x\n",
    "_.<x> = PowerSeriesRing(ring, 'x')"
   ]
  },
  {
   "cell_type": "markdown",
   "metadata": {},
   "source": [
    "# Super-logarithm matrix\n",
    "\n",
    "it is something"
   ]
  },
  {
   "cell_type": "code",
   "execution_count": 2,
   "metadata": {
    "collapsed": false
   },
   "outputs": [
    {
     "data": {
      "text/html": [
       "<html><script type=\"math/tex; mode=display\">\\newcommand{\\Bold}[1]{\\mathbf{#1}}\\left(\\begin{array}{rrrr}\n",
       "1 & 1 & 1 & 1 \\\\\n",
       "\\log\\left(b\\right) - 1 & 2 \\, \\log\\left(b\\right) & 3 \\, \\log\\left(b\\right) & 4 \\, \\log\\left(b\\right) \\\\\n",
       "\\frac{1}{2} \\, \\log\\left(b\\right)^{2} & 2 \\, \\log\\left(b\\right)^{2} - 1 & \\frac{9}{2} \\, \\log\\left(b\\right)^{2} & 8 \\, \\log\\left(b\\right)^{2} \\\\\n",
       "\\frac{1}{6} \\, \\log\\left(b\\right)^{3} & \\frac{4}{3} \\, \\log\\left(b\\right)^{3} & \\frac{9}{2} \\, \\log\\left(b\\right)^{3} - 1 & \\frac{32}{3} \\, \\log\\left(b\\right)^{3}\n",
       "\\end{array}\\right)</script></html>"
      ],
      "text/plain": [
       "[               1                1                1                1]\n",
       "[      log(b) - 1         2*log(b)         3*log(b)         4*log(b)]\n",
       "[    1/2*log(b)^2   2*log(b)^2 - 1     9/2*log(b)^2       8*log(b)^2]\n",
       "[    1/6*log(b)^3     4/3*log(b)^3 9/2*log(b)^3 - 1    32/3*log(b)^3]"
      ]
     },
     "metadata": {},
     "output_type": "display_data"
    }
   ],
   "source": [
    "show(superlog_matrix(lnb, 4, ring=ring))"
   ]
  },
  {
   "cell_type": "markdown",
   "metadata": {},
   "source": [
    "# Super-logarithm power series\n",
    "\n",
    "it is"
   ]
  },
  {
   "cell_type": "code",
   "execution_count": 3,
   "metadata": {
    "collapsed": false,
    "scrolled": true
   },
   "outputs": [
    {
     "data": {
      "text/html": [
       "<html><script type=\"math/tex; mode=display\">\\newcommand{\\Bold}[1]{\\mathbf{#1}}\\left[-1, \\frac{8 \\, \\log\\left(b\\right)^{3} + 5 \\, \\log\\left(b\\right)^{2} + 10 \\, \\log\\left(b\\right) + 2}{2 \\, \\log\\left(b\\right)^{3} + 5 \\, \\log\\left(b\\right)^{2} + 4 \\, \\log\\left(b\\right) + 2}, -\\frac{3 \\, {\\left(2 \\, \\log\\left(b\\right)^{3} - 3 \\, \\log\\left(b\\right)^{2}\\right)}}{2 \\, \\log\\left(b\\right)^{3} + 5 \\, \\log\\left(b\\right)^{2} + 4 \\, \\log\\left(b\\right) + 2}, \\frac{2 \\, {\\left(\\log\\left(b\\right)^{3} - 2 \\, \\log\\left(b\\right)^{2} - \\log\\left(b\\right) + 1\\right)}}{2 \\, \\log\\left(b\\right)^{3} + 5 \\, \\log\\left(b\\right)^{2} + 4 \\, \\log\\left(b\\right) + 2}\\right]</script></html>"
      ],
      "text/plain": [
       "[-1,\n",
       " (8*log(b)^3 + 5*log(b)^2 + 10*log(b) + 2)/(2*log(b)^3 + 5*log(b)^2 + 4*log(b) + 2),\n",
       " -3*(2*log(b)^3 - 3*log(b)^2)/(2*log(b)^3 + 5*log(b)^2 + 4*log(b) + 2),\n",
       " 2*(log(b)^3 - 2*log(b)^2 - log(b) + 1)/(2*log(b)^3 + 5*log(b)^2 + 4*log(b) + 2)]"
      ]
     },
     "metadata": {},
     "output_type": "display_data"
    }
   ],
   "source": [
    "slog_ser = superlog_series(lnb, x, order=3, ring=ring)\n",
    "show([c.canonicalize_radical() for c in slog_ser.coefficients()])"
   ]
  },
  {
   "cell_type": "code",
   "execution_count": 4,
   "metadata": {
    "collapsed": false
   },
   "outputs": [
    {
     "name": "stdout",
     "output_type": "stream",
     "text": [
      "verbose 0 (2717: plot.py, generate_plot_points) WARNING: When plotting, failed to evaluate function at 66 points.\n",
      "verbose 0 (2717: plot.py, generate_plot_points) Last error message: 'unable to simplify to float approximation'\n"
     ]
    },
    {
     "data": {
      "image/png": "[encoded data removed]",
      "text/plain": [
       "Graphics object consisting of 1 graphics primitive"
      ]
     },
     "execution_count": 4,
     "metadata": {},
     "output_type": "execute_result"
    }
   ],
   "source": [
    "def slog(x):\n",
    "    return sum([c*x**k for k, c in enumerate(slog_ser.coefficients())])\n",
    "plot(lambda x: slog(log(x)/lnb) + 1, (-1, 2), ymin=-3, ymax=2, aspect_ratio=1)"
   ]
  },
  {
   "cell_type": "code",
   "execution_count": 5,
   "metadata": {
    "collapsed": false
   },
   "outputs": [
    {
     "data": {
      "image/png": "[encoded data removed]",
      "text/plain": [
       "Graphics object consisting of 1 graphics primitive"
      ]
     },
     "execution_count": 5,
     "metadata": {},
     "output_type": "execute_result"
    }
   ],
   "source": [
    "def slog(x):\n",
    "    return sum([c*x**k for k, c in enumerate(slog_ser.coefficients())])\n",
    "plot(slog, (-1, 2), ymin=-3, ymax=2, aspect_ratio=1)"
   ]
  },
  {
   "cell_type": "code",
   "execution_count": 13,
   "metadata": {
    "collapsed": false
   },
   "outputs": [
    {
     "data": {
      "image/png": "[encoded data removed]",
      "text/plain": [
       "Graphics object consisting of 1 graphics primitive"
      ]
     },
     "metadata": {},
     "output_type": "display_data"
    }
   ],
   "source": [
    "def slog(x):\n",
    "    return sum([c*x**k for k, c in enumerate(slog_ser.coefficients())])\n",
    "plot(lambda x: slog(exp(x*lnb)) - 1, (-1, 2)).show(xmin=-4, xmax=4, ymin=-3, ymax=2, aspect_ratio=1)"
   ]
  },
  {
   "cell_type": "code",
   "execution_count": 5,
   "metadata": {
    "collapsed": false
   },
   "outputs": [
    {
     "data": {
      "text/plain": [
       "0.999999724140167"
      ]
     },
     "execution_count": 5,
     "metadata": {},
     "output_type": "execute_result"
    }
   ],
   "source": [
    "(lambda x: slog_ser.polynomial().subs(x=x))(1)"
   ]
  },
  {
   "cell_type": "code",
   "execution_count": 6,
   "metadata": {
    "collapsed": false
   },
   "outputs": [
    {
     "data": {
      "text/plain": [
       "[10, 10*log(10), 10*log(10)^2, 10*log(10)^3, 10*log(10)^4, 10*log(10)^5]"
      ]
     },
     "execution_count": 6,
     "metadata": {},
     "output_type": "execute_result"
    }
   ],
   "source": [
    "z = var('z')\n",
    "[diff(10^z, z, k).subs(z=1) for k in range(6)]"
   ]
  },
  {
   "cell_type": "code",
   "execution_count": 19,
   "metadata": {
    "collapsed": true
   },
   "outputs": [],
   "source": [
    "def carleman_matrix(expr, x_x0, order=10, ring=SR):\n",
    "    x, x0 = x_x0\n",
    "    return matrix([[ring(diff(expr^j, x, k).subs(**{(str(x)): x0}) - kronecker_delta(j, k)*factorial(k))\n",
    "                    for k in range(0, order + 1)]\n",
    "                    for j in range(0, order + 1)])\n"
   ]
  },
  {
   "cell_type": "code",
   "execution_count": 20,
   "metadata": {
    "collapsed": false
   },
   "outputs": [
    {
     "data": {
      "text/html": [
       "<html><script type=\"math/tex; mode=display\">\\newcommand{\\Bold}[1]{\\mathbf{#1}}\\left(\\begin{array}{rrrrrr}\n",
       "0 & 0 & 0 & 0 & 0 & 0 \\\\\n",
       "1 & \\log\\left(10\\right) - 1 & \\log\\left(10\\right)^{2} & \\log\\left(10\\right)^{3} & \\log\\left(10\\right)^{4} & \\log\\left(10\\right)^{5} \\\\\n",
       "1 & 2 \\, \\log\\left(10\\right) & 4 \\, \\log\\left(10\\right)^{2} - 2 & 8 \\, \\log\\left(10\\right)^{3} & 16 \\, \\log\\left(10\\right)^{4} & 32 \\, \\log\\left(10\\right)^{5} \\\\\n",
       "1 & 3 \\, \\log\\left(10\\right) & 9 \\, \\log\\left(10\\right)^{2} & 27 \\, \\log\\left(10\\right)^{3} - 6 & 81 \\, \\log\\left(10\\right)^{4} & 243 \\, \\log\\left(10\\right)^{5} \\\\\n",
       "1 & 4 \\, \\log\\left(10\\right) & 16 \\, \\log\\left(10\\right)^{2} & 64 \\, \\log\\left(10\\right)^{3} & 256 \\, \\log\\left(10\\right)^{4} - 24 & 1024 \\, \\log\\left(10\\right)^{5} \\\\\n",
       "1 & 5 \\, \\log\\left(10\\right) & 25 \\, \\log\\left(10\\right)^{2} & 125 \\, \\log\\left(10\\right)^{3} & 625 \\, \\log\\left(10\\right)^{4} & 3125 \\, \\log\\left(10\\right)^{5} - 120\n",
       "\\end{array}\\right)</script></html>"
      ],
      "text/plain": [
       "[                   0                    0                    0                    0                    0                    0]\n",
       "[                   1          log(10) - 1            log(10)^2            log(10)^3            log(10)^4            log(10)^5]\n",
       "[                   1            2*log(10)      4*log(10)^2 - 2          8*log(10)^3         16*log(10)^4         32*log(10)^5]\n",
       "[                   1            3*log(10)          9*log(10)^2     27*log(10)^3 - 6         81*log(10)^4        243*log(10)^5]\n",
       "[                   1            4*log(10)         16*log(10)^2         64*log(10)^3   256*log(10)^4 - 24       1024*log(10)^5]\n",
       "[                   1            5*log(10)         25*log(10)^2        125*log(10)^3        625*log(10)^4 3125*log(10)^5 - 120]"
      ]
     },
     "metadata": {},
     "output_type": "display_data"
    }
   ],
   "source": [
    "show(carleman_matrix(10^z, (z, 0), 5))"
   ]
  },
  {
   "cell_type": "code",
   "execution_count": 15,
   "metadata": {
    "collapsed": false
   },
   "outputs": [
    {
     "data": {
      "text/plain": [
       "'z'"
      ]
     },
     "execution_count": 15,
     "metadata": {},
     "output_type": "execute_result"
    }
   ],
   "source": []
  },
  {
   "cell_type": "code",
   "execution_count": 1,
   "metadata": {
    "collapsed": false
   },
   "outputs": [
    {
     "ename": "ImportError",
     "evalue": "No module named Jupyter.external",
     "output_type": "error",
     "traceback": [
      "\u001b[0;31m---------------------------------------------------------------------------\u001b[0m",
      "\u001b[0;31mImportError\u001b[0m                               Traceback (most recent call last)",
      "\u001b[0;32m<ipython-input-1-e0c4f9367d12>\u001b[0m in \u001b[0;36m<module>\u001b[0;34m()\u001b[0m\n\u001b[0;32m----> 1\u001b[0;31m \u001b[0;32mfrom\u001b[0m \u001b[0mJupyter\u001b[0m\u001b[0;34m.\u001b[0m\u001b[0mexternal\u001b[0m \u001b[0;32mimport\u001b[0m \u001b[0mmathjax\u001b[0m\u001b[0;34m;\u001b[0m \u001b[0mmathjax\u001b[0m\u001b[0;34m.\u001b[0m\u001b[0minstall_mathjax\u001b[0m\u001b[0;34m(\u001b[0m\u001b[0;34m)\u001b[0m\u001b[0;34m\u001b[0m\u001b[0m\n\u001b[0m",
      "\u001b[0;31mImportError\u001b[0m: No module named Jupyter.external"
     ]
    }
   ],
   "source": [
    "from Jupyter.external import mathjax; mathjax.install_mathjax()"
   ]
  },
  {
   "cell_type": "code",
   "execution_count": 2,
   "metadata": {
    "collapsed": false
   },
   "outputs": [
    {
     "data": {
      "text/html": [
       "<html><script type=\"math/tex; mode=display\">\\newcommand{\\Bold}[1]{\\mathbf{#1}}\\left(\\begin{array}{rrrrrr}\n",
       "0 & 0 & 0 & 0 & 0 & 0 \\\\\n",
       "1 & \\log\\left(10\\right) - 1 & \\frac{1}{2} \\, \\log\\left(10\\right)^{2} & \\frac{1}{6} \\, \\log\\left(10\\right)^{3} & \\frac{1}{24} \\, \\log\\left(10\\right)^{4} & \\frac{1}{120} \\, \\log\\left(10\\right)^{5} \\\\\n",
       "1 & 2 \\, \\log\\left(10\\right) & 2 \\, \\log\\left(10\\right)^{2} - 1 & \\frac{4}{3} \\, \\log\\left(10\\right)^{3} & \\frac{2}{3} \\, \\log\\left(10\\right)^{4} & \\frac{4}{15} \\, \\log\\left(10\\right)^{5} \\\\\n",
       "1 & 3 \\, \\log\\left(10\\right) & \\frac{9}{2} \\, \\log\\left(10\\right)^{2} & \\frac{9}{2} \\, \\log\\left(10\\right)^{3} - 1 & \\frac{27}{8} \\, \\log\\left(10\\right)^{4} & \\frac{81}{40} \\, \\log\\left(10\\right)^{5} \\\\\n",
       "1 & 4 \\, \\log\\left(10\\right) & 8 \\, \\log\\left(10\\right)^{2} & \\frac{32}{3} \\, \\log\\left(10\\right)^{3} & \\frac{32}{3} \\, \\log\\left(10\\right)^{4} - 1 & \\frac{128}{15} \\, \\log\\left(10\\right)^{5} \\\\\n",
       "1 & 5 \\, \\log\\left(10\\right) & \\frac{25}{2} \\, \\log\\left(10\\right)^{2} & \\frac{125}{6} \\, \\log\\left(10\\right)^{3} & \\frac{625}{24} \\, \\log\\left(10\\right)^{4} & \\frac{625}{24} \\, \\log\\left(10\\right)^{5} - 1\n",
       "\\end{array}\\right)</script></html>"
      ],
      "text/plain": [
       "[                   0                    0                    0                    0                    0                    0]\n",
       "[                   1          log(10) - 1        1/2*log(10)^2        1/6*log(10)^3       1/24*log(10)^4      1/120*log(10)^5]\n",
       "[                   1            2*log(10)      2*log(10)^2 - 1        4/3*log(10)^3        2/3*log(10)^4       4/15*log(10)^5]\n",
       "[                   1            3*log(10)        9/2*log(10)^2    9/2*log(10)^3 - 1       27/8*log(10)^4      81/40*log(10)^5]\n",
       "[                   1            4*log(10)          8*log(10)^2       32/3*log(10)^3   32/3*log(10)^4 - 1     128/15*log(10)^5]\n",
       "[                   1            5*log(10)       25/2*log(10)^2      125/6*log(10)^3     625/24*log(10)^4 625/24*log(10)^5 - 1]"
      ]
     },
     "metadata": {},
     "output_type": "display_data"
    }
   ],
   "source": [
    "z = var('z')\n",
    "show(carleman_matrix(10^z, (z, 0), 5))"
   ]
  },
  {
   "cell_type": "code",
   "execution_count": 3,
   "metadata": {
    "collapsed": false,
    "scrolled": true
   },
   "outputs": [
    {
     "data": {
      "text/html": [
       "<html><script type=\"math/tex; mode=display\">\\newcommand{\\Bold}[1]{\\mathbf{#1}}\\left(\\begin{array}{rrrrr}\n",
       "1 & \\log\\left(10\\right) - 1 & \\frac{1}{2} \\, \\log\\left(10\\right)^{2} & \\frac{1}{6} \\, \\log\\left(10\\right)^{3} & \\frac{1}{24} \\, \\log\\left(10\\right)^{4} \\\\\n",
       "1 & 2 \\, \\log\\left(10\\right) & 2 \\, \\log\\left(10\\right)^{2} - 1 & \\frac{4}{3} \\, \\log\\left(10\\right)^{3} & \\frac{2}{3} \\, \\log\\left(10\\right)^{4} \\\\\n",
       "1 & 3 \\, \\log\\left(10\\right) & \\frac{9}{2} \\, \\log\\left(10\\right)^{2} & \\frac{9}{2} \\, \\log\\left(10\\right)^{3} - 1 & \\frac{27}{8} \\, \\log\\left(10\\right)^{4} \\\\\n",
       "1 & 4 \\, \\log\\left(10\\right) & 8 \\, \\log\\left(10\\right)^{2} & \\frac{32}{3} \\, \\log\\left(10\\right)^{3} & \\frac{32}{3} \\, \\log\\left(10\\right)^{4} - 1 \\\\\n",
       "1 & 5 \\, \\log\\left(10\\right) & \\frac{25}{2} \\, \\log\\left(10\\right)^{2} & \\frac{125}{6} \\, \\log\\left(10\\right)^{3} & \\frac{625}{24} \\, \\log\\left(10\\right)^{4}\n",
       "\\end{array}\\right)</script></html>"
      ],
      "text/plain": [
       "[                 1        log(10) - 1      1/2*log(10)^2      1/6*log(10)^3     1/24*log(10)^4]\n",
       "[                 1          2*log(10)    2*log(10)^2 - 1      4/3*log(10)^3      2/3*log(10)^4]\n",
       "[                 1          3*log(10)      9/2*log(10)^2  9/2*log(10)^3 - 1     27/8*log(10)^4]\n",
       "[                 1          4*log(10)        8*log(10)^2     32/3*log(10)^3 32/3*log(10)^4 - 1]\n",
       "[                 1          5*log(10)     25/2*log(10)^2    125/6*log(10)^3   625/24*log(10)^4]"
      ]
     },
     "metadata": {},
     "output_type": "display_data"
    }
   ],
   "source": [
    "z = var('z')\n",
    "show(transpose(superlog_matrix(lnb, 5)))"
   ]
  },
  {
   "cell_type": "code",
   "execution_count": 4,
   "metadata": {
    "collapsed": false
   },
   "outputs": [
    {
     "data": {
      "text/html": [
       "<html><script type=\"math/tex; mode=display\">\\newcommand{\\Bold}[1]{\\mathbf{#1}}\\left(\\begin{array}{rrrrr}\n",
       "1 & \\log\\left(10\\right) - 1 & \\frac{1}{2} \\, \\log\\left(10\\right)^{2} & \\frac{1}{6} \\, \\log\\left(10\\right)^{3} & \\frac{1}{24} \\, \\log\\left(10\\right)^{4} \\\\\n",
       "1 & 2 \\, \\log\\left(10\\right) & 2 \\, \\log\\left(10\\right)^{2} - 1 & \\frac{4}{3} \\, \\log\\left(10\\right)^{3} & \\frac{2}{3} \\, \\log\\left(10\\right)^{4} \\\\\n",
       "1 & 3 \\, \\log\\left(10\\right) & \\frac{9}{2} \\, \\log\\left(10\\right)^{2} & \\frac{9}{2} \\, \\log\\left(10\\right)^{3} - 1 & \\frac{27}{8} \\, \\log\\left(10\\right)^{4} \\\\\n",
       "1 & 4 \\, \\log\\left(10\\right) & 8 \\, \\log\\left(10\\right)^{2} & \\frac{32}{3} \\, \\log\\left(10\\right)^{3} & \\frac{32}{3} \\, \\log\\left(10\\right)^{4} - 1 \\\\\n",
       "1 & 5 \\, \\log\\left(10\\right) & \\frac{25}{2} \\, \\log\\left(10\\right)^{2} & \\frac{125}{6} \\, \\log\\left(10\\right)^{3} & \\frac{625}{24} \\, \\log\\left(10\\right)^{4}\n",
       "\\end{array}\\right)</script></html>"
      ],
      "text/plain": [
       "[                 1        log(10) - 1      1/2*log(10)^2      1/6*log(10)^3     1/24*log(10)^4]\n",
       "[                 1          2*log(10)    2*log(10)^2 - 1      4/3*log(10)^3      2/3*log(10)^4]\n",
       "[                 1          3*log(10)      9/2*log(10)^2  9/2*log(10)^3 - 1     27/8*log(10)^4]\n",
       "[                 1          4*log(10)        8*log(10)^2     32/3*log(10)^3 32/3*log(10)^4 - 1]\n",
       "[                 1          5*log(10)     25/2*log(10)^2    125/6*log(10)^3   625/24*log(10)^4]"
      ]
     },
     "metadata": {},
     "output_type": "display_data"
    }
   ],
   "source": [
    "show(transpose(abel_matrix(10^z, (z, 0), 5)))"
   ]
  },
  {
   "cell_type": "code",
   "execution_count": null,
   "metadata": {
    "collapsed": true
   },
   "outputs": [],
   "source": []
  }
 ],
 "metadata": {
  "kernelspec": {
   "display_name": "Sage 6.9",
   "language": "",
   "name": "sage_6_9"
  },
  "language_info": {
   "codemirror_mode": {
    "name": "ipython",
    "version": 2
   },
   "file_extension": ".py",
   "mimetype": "text/x-python",
   "name": "python",
   "nbconvert_exporter": "python",
   "pygments_lexer": "ipython2",
   "version": "2.7.9"
  }
 },
 "nbformat": 4,
 "nbformat_minor": 0
}
