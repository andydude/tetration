{
 "cells": [
  {
   "cell_type": "code",
   "execution_count": 52,
   "metadata": {
    "collapsed": false
   },
   "outputs": [],
   "source": [
    "# Dependencies \n",
    "tetration_dl = os.environ.get('TETRATION_DL', os.getcwd())\n",
    "sys.path.append(tetration_dl)\n",
    "import sage_tetration\n",
    "from sage_tetration import *\n",
    "\n",
    "# Base of the super-logarithm (hyper-4-logarithm)\n",
    "# Natural logarithm (hyper-3-logarithm) of the base\n",
    "b = 10\n",
    "lnb = N(log(b))\n",
    "\n",
    "# number of terms in the power series\n",
    "ORDER = 10\n",
    "\n",
    "# Number of bits in floating-point numbers \n",
    "PREC = 53\n",
    "\n",
    "# default coefficient ring\n",
    "RING = RR\n",
    "\n",
    "# Power series ring over x\n",
    "POLYRING.<x> = PowerSeriesRing(RING, 'x')"
   ]
  },
  {
   "cell_type": "markdown",
   "metadata": {},
   "source": [
    "# Super-logarithm matrix\n",
    "\n",
    "it is something"
   ]
  },
  {
   "cell_type": "code",
   "execution_count": 53,
   "metadata": {
    "collapsed": false
   },
   "outputs": [
    {
     "data": {
      "text/html": [
       "<html><script type=\"math/tex; mode=display\">\\newcommand{\\Bold}[1]{\\mathbf{#1}}\\left(\\begin{array}{rrrr}\n",
       "1.00000000000000 & 1.00000000000000 & 1.00000000000000 & 1.00000000000000 \\\\\n",
       "1.30258509299405 & 4.60517018598809 & 6.90775527898214 & 9.21034037197618 \\\\\n",
       "2.65094905523920 & 9.60379622095680 & 23.8585414971528 & 42.4151848838272 \\\\\n",
       "2.03467859229348 & 16.2774287383478 & 53.9363219919239 & 130.219429906783\n",
       "\\end{array}\\right)</script></html>"
      ],
      "text/plain": [
       "[1.00000000000000 1.00000000000000 1.00000000000000 1.00000000000000]\n",
       "[1.30258509299405 4.60517018598809 6.90775527898214 9.21034037197618]\n",
       "[2.65094905523920 9.60379622095680 23.8585414971528 42.4151848838272]\n",
       "[2.03467859229348 16.2774287383478 53.9363219919239 130.219429906783]"
      ]
     },
     "metadata": {},
     "output_type": "display_data"
    }
   ],
   "source": [
    "show(superlog_matrix(lnb, 4))"
   ]
  },
  {
   "cell_type": "markdown",
   "metadata": {},
   "source": [
    "# Super-logarithm power series\n",
    "\n",
    "it is"
   ]
  },
  {
   "cell_type": "code",
   "execution_count": 54,
   "metadata": {
    "collapsed": false,
    "scrolled": true
   },
   "outputs": [
    {
     "ename": "TypeError",
     "evalue": "unsupported operand parent(s) for '*': 'Symbolic Ring' and 'Power Series Ring in x over Real Field with 53 bits of precision'",
     "output_type": "error",
     "traceback": [
      "\u001b[0;31m---------------------------------------------------------------------------\u001b[0m",
      "\u001b[0;31mTypeError\u001b[0m                                 Traceback (most recent call last)",
      "\u001b[0;32m<ipython-input-54-97c7ae2be0b9>\u001b[0m in \u001b[0;36m<module>\u001b[0;34m()\u001b[0m\n\u001b[0;32m----> 1\u001b[0;31m \u001b[0mslog_ser\u001b[0m \u001b[0;34m=\u001b[0m \u001b[0msuperlog_series\u001b[0m\u001b[0;34m(\u001b[0m\u001b[0mlnb\u001b[0m\u001b[0;34m,\u001b[0m \u001b[0mx\u001b[0m\u001b[0;34m,\u001b[0m \u001b[0mInteger\u001b[0m\u001b[0;34m(\u001b[0m\u001b[0;36m3\u001b[0m\u001b[0;34m)\u001b[0m\u001b[0;34m)\u001b[0m\u001b[0;34m\u001b[0m\u001b[0m\n\u001b[0m\u001b[1;32m      2\u001b[0m \u001b[0mshow\u001b[0m\u001b[0;34m(\u001b[0m\u001b[0mslog_ser\u001b[0m\u001b[0;34m)\u001b[0m\u001b[0;34m\u001b[0m\u001b[0m\n",
      "\u001b[0;32m/Users/ajr/Sites/tetration/dl/sage_tetration.py\u001b[0m in \u001b[0;36msuperlog_series\u001b[0;34m(log_base, z, order, ring, cache)\u001b[0m\n\u001b[1;32m     88\u001b[0m         \u001b[0mcache\u001b[0m\u001b[0;34m[\u001b[0m\u001b[0mkey_base\u001b[0m\u001b[0;34m]\u001b[0m\u001b[0;34m[\u001b[0m\u001b[0morder\u001b[0m\u001b[0;34m]\u001b[0m \u001b[0;34m=\u001b[0m \u001b[0mm\u001b[0m\u001b[0;34m.\u001b[0m\u001b[0minverse\u001b[0m\u001b[0;34m(\u001b[0m\u001b[0;34m)\u001b[0m\u001b[0;34m.\u001b[0m\u001b[0mcolumn\u001b[0m\u001b[0;34m(\u001b[0m\u001b[0;36m0\u001b[0m\u001b[0;34m)\u001b[0m\u001b[0;34m\u001b[0m\u001b[0m\n\u001b[1;32m     89\u001b[0m     \u001b[0mcoeff\u001b[0m \u001b[0;34m=\u001b[0m \u001b[0mcache\u001b[0m\u001b[0;34m[\u001b[0m\u001b[0mkey_base\u001b[0m\u001b[0;34m]\u001b[0m\u001b[0;34m[\u001b[0m\u001b[0morder\u001b[0m\u001b[0;34m]\u001b[0m\u001b[0;34m\u001b[0m\u001b[0m\n\u001b[0;32m---> 90\u001b[0;31m \u001b[0;34m\u001b[0m\u001b[0m\n\u001b[0m\u001b[1;32m     91\u001b[0m     \u001b[0;31m# N-ary summation\u001b[0m\u001b[0;34m\u001b[0m\u001b[0;34m\u001b[0m\u001b[0m\n\u001b[1;32m     92\u001b[0m     \u001b[0mser\u001b[0m \u001b[0;34m=\u001b[0m \u001b[0msum\u001b[0m\u001b[0;34m(\u001b[0m\u001b[0;34m[\u001b[0m\u001b[0mpolyring\u001b[0m\u001b[0;34m(\u001b[0m\u001b[0mc\u001b[0m\u001b[0;34m)\u001b[0m\u001b[0;34m*\u001b[0m\u001b[0mpolyring\u001b[0m\u001b[0;34m(\u001b[0m\u001b[0mz\u001b[0m\u001b[0;34m**\u001b[0m\u001b[0;34m(\u001b[0m\u001b[0mi\u001b[0m\u001b[0;34m+\u001b[0m\u001b[0;36m1\u001b[0m\u001b[0;34m)\u001b[0m\u001b[0;34m)\u001b[0m \u001b[0;32mfor\u001b[0m \u001b[0mi\u001b[0m\u001b[0;34m,\u001b[0m \u001b[0mc\u001b[0m \u001b[0;32min\u001b[0m \u001b[0menumerate\u001b[0m\u001b[0;34m(\u001b[0m\u001b[0mcoeff\u001b[0m\u001b[0;34m)\u001b[0m\u001b[0;34m]\u001b[0m\u001b[0;34m)\u001b[0m \u001b[0;34m-\u001b[0m \u001b[0;36m1\u001b[0m\u001b[0;34m\u001b[0m\u001b[0m\n",
      "\u001b[0;32m/opt/sage/src/sage/structure/element.pyx\u001b[0m in \u001b[0;36msage.structure.element.RingElement.__mul__ (/Users/buildslave-sage/slave/sage_git/build/src/build/cythonized/sage/structure/element.c:17265)\u001b[0;34m()\u001b[0m\n\u001b[1;32m   1852\u001b[0m         \u001b[0;32melif\u001b[0m \u001b[0mPyInt_CheckExact\u001b[0m\u001b[0;34m(\u001b[0m\u001b[0mleft\u001b[0m\u001b[0;34m)\u001b[0m\u001b[0;34m:\u001b[0m\u001b[0;34m\u001b[0m\u001b[0m\n\u001b[1;32m   1853\u001b[0m             \u001b[0;32mreturn\u001b[0m \u001b[0;34m(\u001b[0m\u001b[0;34m<\u001b[0m\u001b[0mModuleElement\u001b[0m\u001b[0;34m>\u001b[0m\u001b[0mright\u001b[0m\u001b[0;34m)\u001b[0m\u001b[0;34m.\u001b[0m\u001b[0m_mul_long\u001b[0m\u001b[0;34m(\u001b[0m\u001b[0mPyInt_AS_LONG\u001b[0m\u001b[0;34m(\u001b[0m\u001b[0mleft\u001b[0m\u001b[0;34m)\u001b[0m\u001b[0;34m)\u001b[0m\u001b[0;34m\u001b[0m\u001b[0m\n\u001b[0;32m-> 1854\u001b[0;31m         \u001b[0;32mreturn\u001b[0m \u001b[0mcoercion_model\u001b[0m\u001b[0;34m.\u001b[0m\u001b[0mbin_op\u001b[0m\u001b[0;34m(\u001b[0m\u001b[0mleft\u001b[0m\u001b[0;34m,\u001b[0m \u001b[0mright\u001b[0m\u001b[0;34m,\u001b[0m \u001b[0mmul\u001b[0m\u001b[0;34m)\u001b[0m\u001b[0;34m\u001b[0m\u001b[0m\n\u001b[0m\u001b[1;32m   1855\u001b[0m \u001b[0;34m\u001b[0m\u001b[0m\n\u001b[1;32m   1856\u001b[0m     \u001b[0mcpdef\u001b[0m \u001b[0mRingElement\u001b[0m \u001b[0m_mul_\u001b[0m\u001b[0;34m(\u001b[0m\u001b[0mself\u001b[0m\u001b[0;34m,\u001b[0m \u001b[0mRingElement\u001b[0m \u001b[0mright\u001b[0m\u001b[0;34m)\u001b[0m\u001b[0;34m:\u001b[0m\u001b[0;34m\u001b[0m\u001b[0m\n",
      "\u001b[0;32m/opt/sage/src/sage/structure/coerce.pyx\u001b[0m in \u001b[0;36msage.structure.coerce.CoercionModel_cache_maps.bin_op (/Users/buildslave-sage/slave/sage_git/build/src/build/cythonized/sage/structure/coerce.c:9739)\u001b[0;34m()\u001b[0m\n\u001b[1;32m   1068\u001b[0m         \u001b[0;31m# We should really include the underlying error.\u001b[0m\u001b[0;34m\u001b[0m\u001b[0;34m\u001b[0m\u001b[0m\n\u001b[1;32m   1069\u001b[0m         \u001b[0;31m# This causes so much headache.\u001b[0m\u001b[0;34m\u001b[0m\u001b[0;34m\u001b[0m\u001b[0m\n\u001b[0;32m-> 1070\u001b[0;31m         \u001b[0;32mraise\u001b[0m \u001b[0mTypeError\u001b[0m\u001b[0;34m(\u001b[0m\u001b[0marith_error_message\u001b[0m\u001b[0;34m(\u001b[0m\u001b[0mx\u001b[0m\u001b[0;34m,\u001b[0m\u001b[0my\u001b[0m\u001b[0;34m,\u001b[0m\u001b[0mop\u001b[0m\u001b[0;34m)\u001b[0m\u001b[0;34m)\u001b[0m\u001b[0;34m\u001b[0m\u001b[0m\n\u001b[0m\u001b[1;32m   1071\u001b[0m \u001b[0;34m\u001b[0m\u001b[0m\n\u001b[1;32m   1072\u001b[0m     \u001b[0mcpdef\u001b[0m \u001b[0mcanonical_coercion\u001b[0m\u001b[0;34m(\u001b[0m\u001b[0mself\u001b[0m\u001b[0;34m,\u001b[0m \u001b[0mx\u001b[0m\u001b[0;34m,\u001b[0m \u001b[0my\u001b[0m\u001b[0;34m)\u001b[0m\u001b[0;34m:\u001b[0m\u001b[0;34m\u001b[0m\u001b[0m\n",
      "\u001b[0;31mTypeError\u001b[0m: unsupported operand parent(s) for '*': 'Symbolic Ring' and 'Power Series Ring in x over Real Field with 53 bits of precision'"
     ]
    }
   ],
   "source": [
    "slog_ser = superlog_series(lnb, x, 3)\n",
    "show(slog_ser)"
   ]
  },
  {
   "cell_type": "code",
   "execution_count": 11,
   "metadata": {
    "collapsed": true
   },
   "outputs": [],
   "source": [
    "def slog(x):\n",
    "    return superlog_series(N(lnb, PREC), N(x, PREC), order=ORDER)"
   ]
  },
  {
   "cell_type": "code",
   "execution_count": 51,
   "metadata": {
    "collapsed": false
   },
   "outputs": [
    {
     "ename": "AttributeError",
     "evalue": "'sage.rings.power_series_poly.PowerSeries_poly' object has no attribute 'ring'",
     "output_type": "error",
     "traceback": [
      "\u001b[0;31m---------------------------------------------------------------------------\u001b[0m",
      "\u001b[0;31mAttributeError\u001b[0m                            Traceback (most recent call last)",
      "\u001b[0;32m<ipython-input-51-e39e350d329f>\u001b[0m in \u001b[0;36m<module>\u001b[0;34m()\u001b[0m\n\u001b[0;32m----> 1\u001b[0;31m \u001b[0mx\u001b[0m\u001b[0;34m.\u001b[0m\u001b[0mring\u001b[0m\u001b[0;34m(\u001b[0m\u001b[0;34m)\u001b[0m\u001b[0;34m\u001b[0m\u001b[0m\n\u001b[0m",
      "\u001b[0;32m/opt/sage/src/sage/structure/element.pyx\u001b[0m in \u001b[0;36msage.structure.element.Element.__getattr__ (/Users/buildslave-sage/slave/sage_git/build/src/build/cythonized/sage/structure/element.c:4670)\u001b[0;34m()\u001b[0m\n\u001b[1;32m    416\u001b[0m             \u001b[0mdummy_error_message\u001b[0m\u001b[0;34m.\u001b[0m\u001b[0mname\u001b[0m \u001b[0;34m=\u001b[0m \u001b[0mname\u001b[0m\u001b[0;34m\u001b[0m\u001b[0m\n\u001b[1;32m    417\u001b[0m             \u001b[0;32mraise\u001b[0m \u001b[0mdummy_attribute_error\u001b[0m\u001b[0;34m\u001b[0m\u001b[0m\n\u001b[0;32m--> 418\u001b[0;31m         \u001b[0;32mreturn\u001b[0m \u001b[0mgetattr_from_other_class\u001b[0m\u001b[0;34m(\u001b[0m\u001b[0mself\u001b[0m\u001b[0;34m,\u001b[0m \u001b[0mP\u001b[0m\u001b[0;34m.\u001b[0m\u001b[0m_abstract_element_class\u001b[0m\u001b[0;34m,\u001b[0m \u001b[0mname\u001b[0m\u001b[0;34m)\u001b[0m\u001b[0;34m\u001b[0m\u001b[0m\n\u001b[0m\u001b[1;32m    419\u001b[0m \u001b[0;34m\u001b[0m\u001b[0m\n\u001b[1;32m    420\u001b[0m     \u001b[0;32mdef\u001b[0m \u001b[0m__dir__\u001b[0m\u001b[0;34m(\u001b[0m\u001b[0mself\u001b[0m\u001b[0;34m)\u001b[0m\u001b[0;34m:\u001b[0m\u001b[0;34m\u001b[0m\u001b[0m\n",
      "\u001b[0;32m/opt/sage/src/sage/structure/misc.pyx\u001b[0m in \u001b[0;36msage.structure.misc.getattr_from_other_class (/Users/buildslave-sage/slave/sage_git/build/src/build/cythonized/sage/structure/misc.c:1771)\u001b[0;34m()\u001b[0m\n\u001b[1;32m    257\u001b[0m         \u001b[0mdummy_error_message\u001b[0m\u001b[0;34m.\u001b[0m\u001b[0mcls\u001b[0m \u001b[0;34m=\u001b[0m \u001b[0mtype\u001b[0m\u001b[0;34m(\u001b[0m\u001b[0mself\u001b[0m\u001b[0;34m)\u001b[0m\u001b[0;34m\u001b[0m\u001b[0m\n\u001b[1;32m    258\u001b[0m         \u001b[0mdummy_error_message\u001b[0m\u001b[0;34m.\u001b[0m\u001b[0mname\u001b[0m \u001b[0;34m=\u001b[0m \u001b[0mname\u001b[0m\u001b[0;34m\u001b[0m\u001b[0m\n\u001b[0;32m--> 259\u001b[0;31m         \u001b[0;32mraise\u001b[0m \u001b[0mdummy_attribute_error\u001b[0m\u001b[0;34m\u001b[0m\u001b[0m\n\u001b[0m\u001b[1;32m    260\u001b[0m     \u001b[0;32mif\u001b[0m \u001b[0misinstance\u001b[0m\u001b[0;34m(\u001b[0m\u001b[0mattribute\u001b[0m\u001b[0;34m,\u001b[0m \u001b[0mmethodwrapper\u001b[0m\u001b[0;34m)\u001b[0m\u001b[0;34m:\u001b[0m\u001b[0;34m\u001b[0m\u001b[0m\n\u001b[1;32m    261\u001b[0m         \u001b[0mdummy_error_message\u001b[0m\u001b[0;34m.\u001b[0m\u001b[0mcls\u001b[0m \u001b[0;34m=\u001b[0m \u001b[0mtype\u001b[0m\u001b[0;34m(\u001b[0m\u001b[0mself\u001b[0m\u001b[0;34m)\u001b[0m\u001b[0;34m\u001b[0m\u001b[0m\n",
      "\u001b[0;31mAttributeError\u001b[0m: 'sage.rings.power_series_poly.PowerSeries_poly' object has no attribute 'ring'"
     ]
    }
   ],
   "source": [
    "x.ring()"
   ]
  },
  {
   "cell_type": "code",
   "execution_count": 13,
   "metadata": {
    "collapsed": false
   },
   "outputs": [
    {
     "data": {
      "text/plain": [
       "-1.99840144432528e-15"
      ]
     },
     "execution_count": 13,
     "metadata": {},
     "output_type": "execute_result"
    }
   ],
   "source": [
    "slog(1)"
   ]
  },
  {
   "cell_type": "code",
   "execution_count": 14,
   "metadata": {
    "collapsed": false
   },
   "outputs": [
    {
     "name": "stdout",
     "output_type": "stream",
     "text": [
      "verbose 0 (2717: plot.py, generate_plot_points) WARNING: When plotting, failed to evaluate function at 66 points.\n",
      "verbose 0 (2717: plot.py, generate_plot_points) Last error message: 'unable to simplify to float approximation'\n"
     ]
    },
    {
     "data": {
      "image/png": "[encoded data removed]",
      "text/plain": [
       "Graphics object consisting of 1 graphics primitive"
      ]
     },
     "execution_count": 14,
     "metadata": {},
     "output_type": "execute_result"
    }
   ],
   "source": [
    "plot(lambda x: slog(log(x)/lnb) + 1, (-1, 2), ymin=-3, ymax=2, aspect_ratio=1)"
   ]
  },
  {
   "cell_type": "code",
   "execution_count": null,
   "metadata": {
    "collapsed": false
   },
   "outputs": [],
   "source": [
    "plot(slog, (-1, 2), ymin=-3, ymax=2, aspect_ratio=1)"
   ]
  },
  {
   "cell_type": "code",
   "execution_count": null,
   "metadata": {
    "collapsed": false
   },
   "outputs": [],
   "source": [
    "plot(lambda x: slog(exp(x*lnb)) - 1, (-1, 2)).show(xmin=-4, xmax=4, ymin=-3, ymax=2, aspect_ratio=1)"
   ]
  },
  {
   "cell_type": "code",
   "execution_count": 5,
   "metadata": {
    "collapsed": false
   },
   "outputs": [
    {
     "data": {
      "text/plain": [
       "0.999999724140167"
      ]
     },
     "execution_count": 5,
     "metadata": {},
     "output_type": "execute_result"
    }
   ],
   "source": [
    "(lambda x: slog_ser.polynomial().subs(x=x))(1)"
   ]
  },
  {
   "cell_type": "code",
   "execution_count": 6,
   "metadata": {
    "collapsed": false
   },
   "outputs": [
    {
     "data": {
      "text/plain": [
       "[10, 10*log(10), 10*log(10)^2, 10*log(10)^3, 10*log(10)^4, 10*log(10)^5]"
      ]
     },
     "execution_count": 6,
     "metadata": {},
     "output_type": "execute_result"
    }
   ],
   "source": [
    "z = var('z')\n",
    "[diff(10^z, z, k).subs(z=1) for k in range(6)]"
   ]
  },
  {
   "cell_type": "code",
   "execution_count": 19,
   "metadata": {
    "collapsed": true
   },
   "outputs": [],
   "source": [
    "def carleman_matrix(expr, x_x0, order=10, ring=SR):\n",
    "    x, x0 = x_x0\n",
    "    return matrix([[ring(diff(expr^j, x, k).subs(**{(str(x)): x0}) - kronecker_delta(j, k)*factorial(k))\n",
    "                    for k in range(0, order + 1)]\n",
    "                    for j in range(0, order + 1)])\n"
   ]
  },
  {
   "cell_type": "code",
   "execution_count": 20,
   "metadata": {
    "collapsed": false
   },
   "outputs": [
    {
     "data": {
      "text/html": [
       "<html><script type=\"math/tex; mode=display\">\\newcommand{\\Bold}[1]{\\mathbf{#1}}\\left(\\begin{array}{rrrrrr}\n",
       "0 & 0 & 0 & 0 & 0 & 0 \\\\\n",
       "1 & \\log\\left(10\\right) - 1 & \\log\\left(10\\right)^{2} & \\log\\left(10\\right)^{3} & \\log\\left(10\\right)^{4} & \\log\\left(10\\right)^{5} \\\\\n",
       "1 & 2 \\, \\log\\left(10\\right) & 4 \\, \\log\\left(10\\right)^{2} - 2 & 8 \\, \\log\\left(10\\right)^{3} & 16 \\, \\log\\left(10\\right)^{4} & 32 \\, \\log\\left(10\\right)^{5} \\\\\n",
       "1 & 3 \\, \\log\\left(10\\right) & 9 \\, \\log\\left(10\\right)^{2} & 27 \\, \\log\\left(10\\right)^{3} - 6 & 81 \\, \\log\\left(10\\right)^{4} & 243 \\, \\log\\left(10\\right)^{5} \\\\\n",
       "1 & 4 \\, \\log\\left(10\\right) & 16 \\, \\log\\left(10\\right)^{2} & 64 \\, \\log\\left(10\\right)^{3} & 256 \\, \\log\\left(10\\right)^{4} - 24 & 1024 \\, \\log\\left(10\\right)^{5} \\\\\n",
       "1 & 5 \\, \\log\\left(10\\right) & 25 \\, \\log\\left(10\\right)^{2} & 125 \\, \\log\\left(10\\right)^{3} & 625 \\, \\log\\left(10\\right)^{4} & 3125 \\, \\log\\left(10\\right)^{5} - 120\n",
       "\\end{array}\\right)</script></html>"
      ],
      "text/plain": [
       "[                   0                    0                    0                    0                    0                    0]\n",
       "[                   1          log(10) - 1            log(10)^2            log(10)^3            log(10)^4            log(10)^5]\n",
       "[                   1            2*log(10)      4*log(10)^2 - 2          8*log(10)^3         16*log(10)^4         32*log(10)^5]\n",
       "[                   1            3*log(10)          9*log(10)^2     27*log(10)^3 - 6         81*log(10)^4        243*log(10)^5]\n",
       "[                   1            4*log(10)         16*log(10)^2         64*log(10)^3   256*log(10)^4 - 24       1024*log(10)^5]\n",
       "[                   1            5*log(10)         25*log(10)^2        125*log(10)^3        625*log(10)^4 3125*log(10)^5 - 120]"
      ]
     },
     "metadata": {},
     "output_type": "display_data"
    }
   ],
   "source": [
    "show(carleman_matrix(10^z, (z, 0), 5))"
   ]
  },
  {
   "cell_type": "code",
   "execution_count": 15,
   "metadata": {
    "collapsed": false
   },
   "outputs": [
    {
     "data": {
      "text/plain": [
       "'z'"
      ]
     },
     "execution_count": 15,
     "metadata": {},
     "output_type": "execute_result"
    }
   ],
   "source": []
  },
  {
   "cell_type": "code",
   "execution_count": 1,
   "metadata": {
    "collapsed": false
   },
   "outputs": [
    {
     "ename": "ImportError",
     "evalue": "No module named Jupyter.external",
     "output_type": "error",
     "traceback": [
      "\u001b[0;31m---------------------------------------------------------------------------\u001b[0m",
      "\u001b[0;31mImportError\u001b[0m                               Traceback (most recent call last)",
      "\u001b[0;32m<ipython-input-1-e0c4f9367d12>\u001b[0m in \u001b[0;36m<module>\u001b[0;34m()\u001b[0m\n\u001b[0;32m----> 1\u001b[0;31m \u001b[0;32mfrom\u001b[0m \u001b[0mJupyter\u001b[0m\u001b[0;34m.\u001b[0m\u001b[0mexternal\u001b[0m \u001b[0;32mimport\u001b[0m \u001b[0mmathjax\u001b[0m\u001b[0;34m;\u001b[0m \u001b[0mmathjax\u001b[0m\u001b[0;34m.\u001b[0m\u001b[0minstall_mathjax\u001b[0m\u001b[0;34m(\u001b[0m\u001b[0;34m)\u001b[0m\u001b[0;34m\u001b[0m\u001b[0m\n\u001b[0m",
      "\u001b[0;31mImportError\u001b[0m: No module named Jupyter.external"
     ]
    }
   ],
   "source": [
    "from Jupyter.external import mathjax; mathjax.install_mathjax()"
   ]
  },
  {
   "cell_type": "code",
   "execution_count": 2,
   "metadata": {
    "collapsed": false
   },
   "outputs": [
    {
     "data": {
      "text/html": [
       "<html><script type=\"math/tex; mode=display\">\\newcommand{\\Bold}[1]{\\mathbf{#1}}\\left(\\begin{array}{rrrrrr}\n",
       "0 & 0 & 0 & 0 & 0 & 0 \\\\\n",
       "1 & \\log\\left(10\\right) - 1 & \\frac{1}{2} \\, \\log\\left(10\\right)^{2} & \\frac{1}{6} \\, \\log\\left(10\\right)^{3} & \\frac{1}{24} \\, \\log\\left(10\\right)^{4} & \\frac{1}{120} \\, \\log\\left(10\\right)^{5} \\\\\n",
       "1 & 2 \\, \\log\\left(10\\right) & 2 \\, \\log\\left(10\\right)^{2} - 1 & \\frac{4}{3} \\, \\log\\left(10\\right)^{3} & \\frac{2}{3} \\, \\log\\left(10\\right)^{4} & \\frac{4}{15} \\, \\log\\left(10\\right)^{5} \\\\\n",
       "1 & 3 \\, \\log\\left(10\\right) & \\frac{9}{2} \\, \\log\\left(10\\right)^{2} & \\frac{9}{2} \\, \\log\\left(10\\right)^{3} - 1 & \\frac{27}{8} \\, \\log\\left(10\\right)^{4} & \\frac{81}{40} \\, \\log\\left(10\\right)^{5} \\\\\n",
       "1 & 4 \\, \\log\\left(10\\right) & 8 \\, \\log\\left(10\\right)^{2} & \\frac{32}{3} \\, \\log\\left(10\\right)^{3} & \\frac{32}{3} \\, \\log\\left(10\\right)^{4} - 1 & \\frac{128}{15} \\, \\log\\left(10\\right)^{5} \\\\\n",
       "1 & 5 \\, \\log\\left(10\\right) & \\frac{25}{2} \\, \\log\\left(10\\right)^{2} & \\frac{125}{6} \\, \\log\\left(10\\right)^{3} & \\frac{625}{24} \\, \\log\\left(10\\right)^{4} & \\frac{625}{24} \\, \\log\\left(10\\right)^{5} - 1\n",
       "\\end{array}\\right)</script></html>"
      ],
      "text/plain": [
       "[                   0                    0                    0                    0                    0                    0]\n",
       "[                   1          log(10) - 1        1/2*log(10)^2        1/6*log(10)^3       1/24*log(10)^4      1/120*log(10)^5]\n",
       "[                   1            2*log(10)      2*log(10)^2 - 1        4/3*log(10)^3        2/3*log(10)^4       4/15*log(10)^5]\n",
       "[                   1            3*log(10)        9/2*log(10)^2    9/2*log(10)^3 - 1       27/8*log(10)^4      81/40*log(10)^5]\n",
       "[                   1            4*log(10)          8*log(10)^2       32/3*log(10)^3   32/3*log(10)^4 - 1     128/15*log(10)^5]\n",
       "[                   1            5*log(10)       25/2*log(10)^2      125/6*log(10)^3     625/24*log(10)^4 625/24*log(10)^5 - 1]"
      ]
     },
     "metadata": {},
     "output_type": "display_data"
    }
   ],
   "source": [
    "z = var('z')\n",
    "show(carleman_matrix(10^z, (z, 0), 5))"
   ]
  },
  {
   "cell_type": "code",
   "execution_count": 3,
   "metadata": {
    "collapsed": false,
    "scrolled": true
   },
   "outputs": [
    {
     "data": {
      "text/html": [
       "<html><script type=\"math/tex; mode=display\">\\newcommand{\\Bold}[1]{\\mathbf{#1}}\\left(\\begin{array}{rrrrr}\n",
       "1 & \\log\\left(10\\right) - 1 & \\frac{1}{2} \\, \\log\\left(10\\right)^{2} & \\frac{1}{6} \\, \\log\\left(10\\right)^{3} & \\frac{1}{24} \\, \\log\\left(10\\right)^{4} \\\\\n",
       "1 & 2 \\, \\log\\left(10\\right) & 2 \\, \\log\\left(10\\right)^{2} - 1 & \\frac{4}{3} \\, \\log\\left(10\\right)^{3} & \\frac{2}{3} \\, \\log\\left(10\\right)^{4} \\\\\n",
       "1 & 3 \\, \\log\\left(10\\right) & \\frac{9}{2} \\, \\log\\left(10\\right)^{2} & \\frac{9}{2} \\, \\log\\left(10\\right)^{3} - 1 & \\frac{27}{8} \\, \\log\\left(10\\right)^{4} \\\\\n",
       "1 & 4 \\, \\log\\left(10\\right) & 8 \\, \\log\\left(10\\right)^{2} & \\frac{32}{3} \\, \\log\\left(10\\right)^{3} & \\frac{32}{3} \\, \\log\\left(10\\right)^{4} - 1 \\\\\n",
       "1 & 5 \\, \\log\\left(10\\right) & \\frac{25}{2} \\, \\log\\left(10\\right)^{2} & \\frac{125}{6} \\, \\log\\left(10\\right)^{3} & \\frac{625}{24} \\, \\log\\left(10\\right)^{4}\n",
       "\\end{array}\\right)</script></html>"
      ],
      "text/plain": [
       "[                 1        log(10) - 1      1/2*log(10)^2      1/6*log(10)^3     1/24*log(10)^4]\n",
       "[                 1          2*log(10)    2*log(10)^2 - 1      4/3*log(10)^3      2/3*log(10)^4]\n",
       "[                 1          3*log(10)      9/2*log(10)^2  9/2*log(10)^3 - 1     27/8*log(10)^4]\n",
       "[                 1          4*log(10)        8*log(10)^2     32/3*log(10)^3 32/3*log(10)^4 - 1]\n",
       "[                 1          5*log(10)     25/2*log(10)^2    125/6*log(10)^3   625/24*log(10)^4]"
      ]
     },
     "metadata": {},
     "output_type": "display_data"
    }
   ],
   "source": [
    "z = var('z')\n",
    "show(transpose(superlog_matrix(lnb, 5)))"
   ]
  },
  {
   "cell_type": "code",
   "execution_count": 4,
   "metadata": {
    "collapsed": false
   },
   "outputs": [
    {
     "data": {
      "text/html": [
       "<html><script type=\"math/tex; mode=display\">\\newcommand{\\Bold}[1]{\\mathbf{#1}}\\left(\\begin{array}{rrrrr}\n",
       "1 & \\log\\left(10\\right) - 1 & \\frac{1}{2} \\, \\log\\left(10\\right)^{2} & \\frac{1}{6} \\, \\log\\left(10\\right)^{3} & \\frac{1}{24} \\, \\log\\left(10\\right)^{4} \\\\\n",
       "1 & 2 \\, \\log\\left(10\\right) & 2 \\, \\log\\left(10\\right)^{2} - 1 & \\frac{4}{3} \\, \\log\\left(10\\right)^{3} & \\frac{2}{3} \\, \\log\\left(10\\right)^{4} \\\\\n",
       "1 & 3 \\, \\log\\left(10\\right) & \\frac{9}{2} \\, \\log\\left(10\\right)^{2} & \\frac{9}{2} \\, \\log\\left(10\\right)^{3} - 1 & \\frac{27}{8} \\, \\log\\left(10\\right)^{4} \\\\\n",
       "1 & 4 \\, \\log\\left(10\\right) & 8 \\, \\log\\left(10\\right)^{2} & \\frac{32}{3} \\, \\log\\left(10\\right)^{3} & \\frac{32}{3} \\, \\log\\left(10\\right)^{4} - 1 \\\\\n",
       "1 & 5 \\, \\log\\left(10\\right) & \\frac{25}{2} \\, \\log\\left(10\\right)^{2} & \\frac{125}{6} \\, \\log\\left(10\\right)^{3} & \\frac{625}{24} \\, \\log\\left(10\\right)^{4}\n",
       "\\end{array}\\right)</script></html>"
      ],
      "text/plain": [
       "[                 1        log(10) - 1      1/2*log(10)^2      1/6*log(10)^3     1/24*log(10)^4]\n",
       "[                 1          2*log(10)    2*log(10)^2 - 1      4/3*log(10)^3      2/3*log(10)^4]\n",
       "[                 1          3*log(10)      9/2*log(10)^2  9/2*log(10)^3 - 1     27/8*log(10)^4]\n",
       "[                 1          4*log(10)        8*log(10)^2     32/3*log(10)^3 32/3*log(10)^4 - 1]\n",
       "[                 1          5*log(10)     25/2*log(10)^2    125/6*log(10)^3   625/24*log(10)^4]"
      ]
     },
     "metadata": {},
     "output_type": "display_data"
    }
   ],
   "source": [
    "show(transpose(abel_matrix(10^z, (z, 0), 5)))"
   ]
  },
  {
   "cell_type": "code",
   "execution_count": null,
   "metadata": {
    "collapsed": true
   },
   "outputs": [],
   "source": []
  }
 ],
 "metadata": {
  "kernelspec": {
   "display_name": "Sage 6.9",
   "language": "",
   "name": "sage_6_9"
  }
 },
 "nbformat": 4,
 "nbformat_minor": 0
}
