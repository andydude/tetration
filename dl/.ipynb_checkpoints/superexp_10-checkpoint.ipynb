{
 "cells": [
  {
   "cell_type": "code",
   "execution_count": 5,
   "metadata": {
    "collapsed": true
   },
   "outputs": [],
   "source": [
    "# Dependencies \n",
    "tetration_dir = os.environ.get('TETRATION_DIR', os.getcwd())\n",
    "sys.path.append(os.path.join(tetration_dir, 'dl'))\n",
    "from sage_tetration import *\n",
    "\n",
    "# Base of the super-logarithm (hyper-4-logarithm)\n",
    "# Natural logarithm (hyper-3-logarithm) of the base\n",
    "b = 10\n",
    "lnb = log(b)\n",
    "\n",
    "# number of terms in the power series\n",
    "order = 10\n",
    "\n",
    "# Number of bits in floating-point numbers \n",
    "prec = 53\n",
    "\n",
    "# default coefficient ring\n",
    "ring = RR\n",
    "\n",
    "# Power series ring over x\n",
    "_.<x> = PowerSeriesRing(ring, 'x')"
   ]
  },
  {
   "cell_type": "markdown",
   "metadata": {},
   "source": [
    "# Super-logarithm matrix\n",
    "\n",
    "it is something"
   ]
  },
  {
   "cell_type": "code",
   "execution_count": 6,
   "metadata": {
    "collapsed": false
   },
   "outputs": [
    {
     "data": {
      "text/html": [
       "<html><script type=\"math/tex; mode=display\">\\newcommand{\\Bold}[1]{\\mathbf{#1}}\\left(\\begin{array}{rrrr}\n",
       "1.00000000000000 & 1.00000000000000 & 1.00000000000000 & 1.00000000000000 \\\\\n",
       "0.565705518096748 & 2.00000000000000 & 3.00000000000000 & 4.00000000000000 \\\\\n",
       "1.00000000000000 & 3.62277660597677 & 9.00000000000000 & 16.0000000000000 \\\\\n",
       "1.00000000000000 & 8.00000000000000 & 26.5085218845927 & 64.0000000000000\n",
       "\\end{array}\\right)</script></html>"
      ],
      "text/plain": [
       "[ 1.00000000000000  1.00000000000000  1.00000000000000  1.00000000000000]\n",
       "[0.565705518096748  2.00000000000000  3.00000000000000  4.00000000000000]\n",
       "[ 1.00000000000000  3.62277660597677  9.00000000000000  16.0000000000000]\n",
       "[ 1.00000000000000  8.00000000000000  26.5085218845927  64.0000000000000]"
      ]
     },
     "metadata": {},
     "output_type": "display_data"
    }
   ],
   "source": [
    "show(superlog_matrix(lnb, 4, ring=ring))"
   ]
  },
  {
   "cell_type": "markdown",
   "metadata": {},
   "source": [
    "# Super-logarithm power series\n",
    "\n",
    "it is"
   ]
  },
  {
   "cell_type": "code",
   "execution_count": 3,
   "metadata": {
    "collapsed": false,
    "scrolled": true
   },
   "outputs": [
    {
     "data": {
      "text/html": [
       "<html><script type=\"math/tex; mode=display\">\\newcommand{\\Bold}[1]{\\mathbf{#1}}\\left(\\begin{array}{r}\n",
       "-1.00000000000000 \\\\\n",
       "2.36475367803228 \\\\\n",
       "-0.00665830089920855 \\\\\n",
       "-0.789787379131211 \\\\\n",
       "0.341973598266551 \\\\\n",
       "0.552655789703016 \\\\\n",
       "-0.842492723154300 \\\\\n",
       "0.527678571812304 \\\\\n",
       "-0.175359522702586 \\\\\n",
       "0.0288236517661402 \\\\\n",
       "-0.00158736369298416\n",
       "\\end{array}\\right)</script></html>"
      ],
      "text/plain": [
       "[   -1.00000000000000]\n",
       "[    2.36475367803228]\n",
       "[-0.00665830089920855]\n",
       "[  -0.789787379131211]\n",
       "[   0.341973598266551]\n",
       "[   0.552655789703016]\n",
       "[  -0.842492723154300]\n",
       "[   0.527678571812304]\n",
       "[  -0.175359522702586]\n",
       "[  0.0288236517661402]\n",
       "[-0.00158736369298416]"
      ]
     },
     "metadata": {},
     "output_type": "display_data"
    }
   ],
   "source": [
    "slog_ser = superlog_series(N(lnb), x, order=order, ring=ring)\n",
    "show(transpose(matrix([slog_ser.coefficients()])))"
   ]
  },
  {
   "cell_type": "code",
   "execution_count": 4,
   "metadata": {
    "collapsed": false
   },
   "outputs": [
    {
     "data": {
      "image/png": "[encoded data removed]",
      "text/plain": [
       "Graphics object consisting of 1 graphics primitive"
      ]
     },
     "execution_count": 4,
     "metadata": {},
     "output_type": "execute_result"
    }
   ],
   "source": [
    "plot(lambda x: slog_ser.polynomial().subs(x=x), (-1, 1), ymin=-2, ymax=2, aspect_ratio=1)"
   ]
  },
  {
   "cell_type": "code",
   "execution_count": 5,
   "metadata": {
    "collapsed": false
   },
   "outputs": [
    {
     "data": {
      "text/plain": [
       "0.999999724140167"
      ]
     },
     "execution_count": 5,
     "metadata": {},
     "output_type": "execute_result"
    }
   ],
   "source": [
    "(lambda x: slog_ser.polynomial().subs(x=x))(1)"
   ]
  },
  {
   "cell_type": "code",
   "execution_count": 6,
   "metadata": {
    "collapsed": false
   },
   "outputs": [
    {
     "data": {
      "text/plain": [
       "[10, 10*log(10), 10*log(10)^2, 10*log(10)^3, 10*log(10)^4, 10*log(10)^5]"
      ]
     },
     "execution_count": 6,
     "metadata": {},
     "output_type": "execute_result"
    }
   ],
   "source": [
    "z = var('z')\n",
    "[diff(10^z, z, k).subs(z=1) for k in range(6)]"
   ]
  },
  {
   "cell_type": "code",
   "execution_count": 19,
   "metadata": {
    "collapsed": true
   },
   "outputs": [],
   "source": [
    "def carleman_matrix(expr, x_x0, order=10, ring=SR):\n",
    "    x, x0 = x_x0\n",
    "    return matrix([[ring(diff(expr^j, x, k).subs(**{(str(x)): x0}) - kronecker_delta(j, k)*factorial(k))\n",
    "                    for k in range(0, order + 1)]\n",
    "                    for j in range(0, order + 1)])\n"
   ]
  },
  {
   "cell_type": "code",
   "execution_count": 20,
   "metadata": {
    "collapsed": false
   },
   "outputs": [
    {
     "data": {
      "text/html": [
       "<html><script type=\"math/tex; mode=display\">\\newcommand{\\Bold}[1]{\\mathbf{#1}}\\left(\\begin{array}{rrrrrr}\n",
       "0 & 0 & 0 & 0 & 0 & 0 \\\\\n",
       "1 & \\log\\left(10\\right) - 1 & \\log\\left(10\\right)^{2} & \\log\\left(10\\right)^{3} & \\log\\left(10\\right)^{4} & \\log\\left(10\\right)^{5} \\\\\n",
       "1 & 2 \\, \\log\\left(10\\right) & 4 \\, \\log\\left(10\\right)^{2} - 2 & 8 \\, \\log\\left(10\\right)^{3} & 16 \\, \\log\\left(10\\right)^{4} & 32 \\, \\log\\left(10\\right)^{5} \\\\\n",
       "1 & 3 \\, \\log\\left(10\\right) & 9 \\, \\log\\left(10\\right)^{2} & 27 \\, \\log\\left(10\\right)^{3} - 6 & 81 \\, \\log\\left(10\\right)^{4} & 243 \\, \\log\\left(10\\right)^{5} \\\\\n",
       "1 & 4 \\, \\log\\left(10\\right) & 16 \\, \\log\\left(10\\right)^{2} & 64 \\, \\log\\left(10\\right)^{3} & 256 \\, \\log\\left(10\\right)^{4} - 24 & 1024 \\, \\log\\left(10\\right)^{5} \\\\\n",
       "1 & 5 \\, \\log\\left(10\\right) & 25 \\, \\log\\left(10\\right)^{2} & 125 \\, \\log\\left(10\\right)^{3} & 625 \\, \\log\\left(10\\right)^{4} & 3125 \\, \\log\\left(10\\right)^{5} - 120\n",
       "\\end{array}\\right)</script></html>"
      ],
      "text/plain": [
       "[                   0                    0                    0                    0                    0                    0]\n",
       "[                   1          log(10) - 1            log(10)^2            log(10)^3            log(10)^4            log(10)^5]\n",
       "[                   1            2*log(10)      4*log(10)^2 - 2          8*log(10)^3         16*log(10)^4         32*log(10)^5]\n",
       "[                   1            3*log(10)          9*log(10)^2     27*log(10)^3 - 6         81*log(10)^4        243*log(10)^5]\n",
       "[                   1            4*log(10)         16*log(10)^2         64*log(10)^3   256*log(10)^4 - 24       1024*log(10)^5]\n",
       "[                   1            5*log(10)         25*log(10)^2        125*log(10)^3        625*log(10)^4 3125*log(10)^5 - 120]"
      ]
     },
     "metadata": {},
     "output_type": "display_data"
    }
   ],
   "source": [
    "show(carleman_matrix(10^z, (z, 0), 5))"
   ]
  },
  {
   "cell_type": "code",
   "execution_count": 15,
   "metadata": {
    "collapsed": false
   },
   "outputs": [
    {
     "data": {
      "text/plain": [
       "'z'"
      ]
     },
     "execution_count": 15,
     "metadata": {},
     "output_type": "execute_result"
    }
   ],
   "source": []
  },
  {
   "cell_type": "code",
   "execution_count": null,
   "metadata": {
    "collapsed": true
   },
   "outputs": [],
   "source": []
  }
 ],
 "metadata": {
  "kernelspec": {
   "display_name": "Sage 6.9",
   "language": "",
   "name": "sage_6_9"
  },
  "language_info": {
   "codemirror_mode": {
    "name": "ipython",
    "version": 2
   },
   "file_extension": ".py",
   "mimetype": "text/x-python",
   "name": "python",
   "nbconvert_exporter": "python",
   "pygments_lexer": "ipython2",
   "version": "2.7.9"
  }
 },
 "nbformat": 4,
 "nbformat_minor": 0
}
