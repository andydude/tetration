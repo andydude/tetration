{
 "cells": [
  {
   "cell_type": "code",
   "execution_count": 10,
   "metadata": {
    "collapsed": true
   },
   "outputs": [],
   "source": [
    "# Dependencies \n",
    "tetration_dl = os.environ.get('TETRATION_DL', os.getcwd())\n",
    "sys.path.append(tetration_dl)\n",
    "from sage_tetration import *"
   ]
  },
  {
   "cell_type": "markdown",
   "metadata": {},
   "source": [
    "# Power Series"
   ]
  },
  {
   "cell_type": "code",
   "execution_count": 19,
   "metadata": {
    "collapsed": true
   },
   "outputs": [],
   "source": [
    "# Symbolic Ring Variable\n",
    "x = var('x')\n",
    "\n",
    "# Power Series Ring Variable\n",
    "PS.<z> = PowerSeriesRing(QQ)"
   ]
  },
  {
   "cell_type": "code",
   "execution_count": 27,
   "metadata": {
    "collapsed": false
   },
   "outputs": [
    {
     "data": {
      "text/html": [
       "<html><script type=\"math/tex; mode=display\">\\newcommand{\\Bold}[1]{\\mathbf{#1}}1 + z - z^{2} + \\frac{1}{2}z^{3} + \\frac{1}{6}z^{4} - \\frac{3}{4}z^{5} + \\frac{131}{120}z^{6} - \\frac{9}{8}z^{7} + \\frac{1087}{1260}z^{8} - \\frac{271}{720}z^{9} - \\frac{2291}{10080}z^{10} + \\frac{523}{630}z^{11} - \\frac{26402777}{19958400}z^{12} + \\frac{419981}{259200}z^{13} + O(z^{14})</script></html>"
      ],
      "text/plain": [
       "1 + z - z^2 + 1/2*z^3 + 1/6*z^4 - 3/4*z^5 + 131/120*z^6 - 9/8*z^7 + 1087/1260*z^8 - 271/720*z^9 - 2291/10080*z^10 + 523/630*z^11 - 26402777/19958400*z^12 + 419981/259200*z^13 + O(z^14)"
      ]
     },
     "metadata": {},
     "output_type": "display_data"
    }
   ],
   "source": [
    "show(selfroot._at1_series_(z, order=13))"
   ]
  },
  {
   "cell_type": "code",
   "execution_count": 29,
   "metadata": {
    "collapsed": false
   },
   "outputs": [
    {
     "data": {
      "text/html": [
       "<html><script type=\"math/tex; mode=display\">\\newcommand{\\Bold}[1]{\\mathbf{#1}}1 + z - \\frac{1}{2}z^{2} - \\frac{1}{3}z^{3} + \\frac{3}{8}z^{4} - \\frac{1}{30}z^{5} - \\frac{19}{144}z^{6} + \\frac{23}{280}z^{7} + \\frac{7}{5760}z^{8} - \\frac{1261}{45360}z^{9} + \\frac{6169}{403200}z^{10} - \\frac{1387}{3991680}z^{11} - \\frac{184069}{43545600}z^{12} + O(z^{13})</script></html>"
      ],
      "text/plain": [
       "1 + z - 1/2*z^2 - 1/3*z^3 + 3/8*z^4 - 1/30*z^5 - 19/144*z^6 + 23/280*z^7 + 7/5760*z^8 - 1261/45360*z^9 + 6169/403200*z^10 - 1387/3991680*z^11 - 184069/43545600*z^12 + O(z^13)"
      ]
     },
     "metadata": {},
     "output_type": "display_data"
    }
   ],
   "source": [
    "show(selfroot._exp_series_(z, order=12))"
   ]
  },
  {
   "cell_type": "markdown",
   "metadata": {},
   "source": [
    "# Calculus and Plots"
   ]
  },
  {
   "cell_type": "code",
   "execution_count": 14,
   "metadata": {
    "collapsed": false
   },
   "outputs": [
    {
     "data": {
      "text/plain": [
       "x^(1/x)"
      ]
     },
     "execution_count": 14,
     "metadata": {},
     "output_type": "execute_result"
    }
   ],
   "source": [
    "selfroot(x)"
   ]
  },
  {
   "cell_type": "code",
   "execution_count": 15,
   "metadata": {
    "collapsed": false
   },
   "outputs": [
    {
     "data": {
      "text/plain": [
       "-x^(1/x)*(log(x)/x^2 - 1/x^2)"
      ]
     },
     "execution_count": 15,
     "metadata": {},
     "output_type": "execute_result"
    }
   ],
   "source": [
    "diff(selfroot(x), x)"
   ]
  },
  {
   "cell_type": "code",
   "execution_count": 16,
   "metadata": {
    "collapsed": false
   },
   "outputs": [
    {
     "data": {
      "image/png": "[encoded data removed]",
      "text/plain": [
       "Graphics object consisting of 1 graphics primitive"
      ]
     },
     "execution_count": 16,
     "metadata": {},
     "output_type": "execute_result"
    }
   ],
   "source": [
    "plot(selfroot(x), (x, 0, 4))"
   ]
  },
  {
   "cell_type": "code",
   "execution_count": null,
   "metadata": {
    "collapsed": true
   },
   "outputs": [],
   "source": []
  }
 ],
 "metadata": {
  "kernelspec": {
   "display_name": "Sage 6.9",
   "language": "",
   "name": "sage_6_9"
  },
  "language_info": {
   "codemirror_mode": {
    "name": "ipython",
    "version": 2
   },
   "file_extension": ".py",
   "mimetype": "text/x-python",
   "name": "python",
   "nbconvert_exporter": "python",
   "pygments_lexer": "ipython2",
   "version": "2.7.9"
  }
 },
 "nbformat": 4,
 "nbformat_minor": 0
}
